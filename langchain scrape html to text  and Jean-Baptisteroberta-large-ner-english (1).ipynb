{
 "cells": [
  {
   "cell_type": "code",
   "execution_count": null,
   "id": "f9abc928",
   "metadata": {},
   "outputs": [],
   "source": [
    "import pandas as pd\n",
    "from langchain.document_loaders import AsyncHtmlLoader\n",
    "from langchain.document_transformers import Html2TextTransformer"
   ]
  },
  {
   "cell_type": "code",
   "execution_count": null,
   "id": "81c89068",
   "metadata": {},
   "outputs": [],
   "source": [
    "input_df = pd.read_excel(r\"C:\\Users\\Dell\\Downloads\\Input for Name collection model _20231027.xlsx\")"
   ]
  },
  {
   "cell_type": "code",
   "execution_count": null,
   "id": "ffc5f746",
   "metadata": {},
   "outputs": [],
   "source": [
    "input_df = input_df.dropna(subset='Link')"
   ]
  },
  {
   "cell_type": "code",
   "execution_count": null,
   "id": "eab7a0ee",
   "metadata": {},
   "outputs": [],
   "source": [
    "len(input_df['Link'].unique())"
   ]
  },
  {
   "cell_type": "code",
   "execution_count": null,
   "id": "d23e904a",
   "metadata": {},
   "outputs": [],
   "source": [
    "from transformers import AutoTokenizer, AutoModelForTokenClassification\n",
    "\n",
    "tokenizer = AutoTokenizer.from_pretrained(\"Jean-Baptiste/roberta-large-ner-english\")\n",
    "model = AutoModelForTokenClassification.from_pretrained(\"Jean-Baptiste/roberta-large-ner-english\")\n",
    "\n",
    "\n",
    "##### Process text sample (from wikipedia)\n",
    "\n",
    "from transformers import pipeline\n",
    "\n",
    "nlp = pipeline('ner', model=model, tokenizer=tokenizer, aggregation_strategy=\"simple\")"
   ]
  },
  {
   "cell_type": "code",
   "execution_count": null,
   "id": "f4a422a1",
   "metadata": {},
   "outputs": [],
   "source": [
    "\n",
    "def get_text(url):\n",
    "    print(\"fetching url \", url)\n",
    "    urls = [url]\n",
    "    loader = AsyncHtmlLoader(urls)\n",
    "    docs = loader.load()\n",
    "    html2text = Html2TextTransformer()\n",
    "    docs_transformed = html2text.transform_documents(docs)\n",
    "    return docs_transformed"
   ]
  },
  {
   "cell_type": "code",
   "execution_count": null,
   "id": "2e0f46fd",
   "metadata": {},
   "outputs": [],
   "source": [
    "name_list = []\n",
    "\n",
    "def get_name(cont,url):\n",
    "    print(\"getting_names....\")\n",
    "    for i in cont.split(\"\\n\\n\"):\n",
    "\n",
    "        a = nlp(i)\n",
    "        if a:\n",
    "            for ent in a:\n",
    "                if ent['entity_group'] == 'PER':\n",
    "                    name = ent['word']\n",
    "                    data = {\n",
    "                        \"Names\":name,\n",
    "                        \"Links\":url\n",
    "                    }\n",
    "                    name_list.append(data)"
   ]
  },
  {
   "cell_type": "code",
   "execution_count": null,
   "id": "de4c0869",
   "metadata": {},
   "outputs": [],
   "source": [
    "for url in input_df['Link'].unique():\n",
    "#url = input_df['Link'].unique()[0]\n",
    "    print(url)\n",
    "    docs_transformed = get_text(url)\n",
    "    cont = docs_transformed[0].page_content.lower()\n",
    "    get_name(cont,url)\n",
    "#docs_transformed[0].metadata['source']\n",
    "print(\"--completed--\")\n",
    "\n"
   ]
  },
  {
   "cell_type": "code",
   "execution_count": null,
   "id": "00045cf3",
   "metadata": {},
   "outputs": [],
   "source": [
    "import pandas as pd\n",
    "df = pd.DataFrame(name_list)"
   ]
  },
  {
   "cell_type": "code",
   "execution_count": null,
   "id": "bdd9ab54",
   "metadata": {},
   "outputs": [],
   "source": [
    "df['Names'] = df['Names'].str.lower()"
   ]
  },
  {
   "cell_type": "code",
   "execution_count": null,
   "id": "a0345777",
   "metadata": {},
   "outputs": [],
   "source": [
    "df['Names'] = df['Names'].str.strip()"
   ]
  },
  {
   "cell_type": "code",
   "execution_count": null,
   "id": "08bd1e3b",
   "metadata": {},
   "outputs": [],
   "source": [
    "len(df)"
   ]
  },
  {
   "cell_type": "code",
   "execution_count": null,
   "id": "3cdea4ba",
   "metadata": {},
   "outputs": [],
   "source": [
    "df_unique = df.drop_duplicates()"
   ]
  },
  {
   "cell_type": "code",
   "execution_count": null,
   "id": "b256cf96",
   "metadata": {},
   "outputs": [],
   "source": [
    "df_unique = df_unique.reset_index(drop=True)"
   ]
  },
  {
   "cell_type": "code",
   "execution_count": null,
   "id": "16b301ac",
   "metadata": {},
   "outputs": [],
   "source": [
    "final_list = []\n",
    "for i,j in zip(df_unique['Names'],df_unique['Links']):\n",
    "    if not len(i.split()) < 2:\n",
    "        final_list.append({\n",
    "            \"name\":i,\n",
    "            \"link\":j\n",
    "        })"
   ]
  },
  {
   "cell_type": "code",
   "execution_count": null,
   "id": "b2830bb0",
   "metadata": {},
   "outputs": [],
   "source": [
    "out_df = pd.DataFrame(final_list)"
   ]
  },
  {
   "cell_type": "code",
   "execution_count": null,
   "id": "46b16cd9",
   "metadata": {},
   "outputs": [],
   "source": [
    "out_df.to_excel(\"E:\\\\name_idendified.xlsx\", index = False)"
   ]
  },
  {
   "cell_type": "code",
   "execution_count": null,
   "id": "7f70c401",
   "metadata": {},
   "outputs": [],
   "source": []
  }
 ],
 "metadata": {
  "kernelspec": {
   "display_name": "Python 3 (ipykernel)",
   "language": "python",
   "name": "python3"
  },
  "language_info": {
   "codemirror_mode": {
    "name": "ipython",
    "version": 3
   },
   "file_extension": ".py",
   "mimetype": "text/x-python",
   "name": "python",
   "nbconvert_exporter": "python",
   "pygments_lexer": "ipython3",
   "version": "3.11.4"
  }
 },
 "nbformat": 4,
 "nbformat_minor": 5
}
